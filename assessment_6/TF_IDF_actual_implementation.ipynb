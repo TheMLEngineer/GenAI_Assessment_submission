{
 "cells": [
  {
   "cell_type": "code",
   "execution_count": 1,
   "metadata": {},
   "outputs": [],
   "source": [
    "import numpy as np\n",
    "from collections import defaultdict\n",
    "from math import log"
   ]
  },
  {
   "cell_type": "code",
   "execution_count": 2,
   "id": "21811836",
   "metadata": {},
   "outputs": [],
   "source": [
    "# 3 sentence sample corpus\n",
    "sample_corpus = [\n",
    "    \"In the magical forest, the wizard cast a spell to protect the enchanted tree\",\n",
    "    \"The enchanted tree glowed brightly, illuminating the entire forest with its magical light\",\n",
    "    \"As the forest thrived, the wizard watched over the enchanted tree, ensuring its magical essence remained strong\"\n",
    "]"
   ]
  },
  {
   "cell_type": "code",
   "execution_count": 4,
   "id": "e109d3f3",
   "metadata": {},
   "outputs": [],
   "source": [
    "# Data preprocessing\n",
    "\n",
    "def data_preprocessing(text):\n",
    "    return [word.lower() for word in text.split() if word.isalpha()]\n"
   ]
  },
  {
   "cell_type": "code",
   "execution_count": 6,
   "id": "ed0cce02",
   "metadata": {},
   "outputs": [],
   "source": [
    "# Compute Term Freaquency\n",
    "\n",
    "def compute_term_frequency(corpus):\n",
    "    tf = []\n",
    "    for document in corpus:\n",
    "        word_count = defaultdict(int)\n",
    "        words = data_preprocessing(document)\n",
    "        for word in words:\n",
    "            word_count[word] += 1\n",
    "        tf = tf.append(\n",
    "            {word:count/len(words) for word , count in word_count.items()}\n",
    "        )\n",
    "    return tf"
   ]
  },
  {
   "cell_type": "code",
   "execution_count": null,
   "id": "3e7c743a",
   "metadata": {},
   "outputs": [],
   "source": []
  }
 ],
 "metadata": {
  "kernelspec": {
   "display_name": "Python 3",
   "language": "python",
   "name": "python3"
  },
  "language_info": {
   "codemirror_mode": {
    "name": "ipython",
    "version": 3
   },
   "file_extension": ".py",
   "mimetype": "text/x-python",
   "name": "python",
   "nbconvert_exporter": "python",
   "pygments_lexer": "ipython3",
   "version": "3.12.6"
  }
 },
 "nbformat": 4,
 "nbformat_minor": 5
}
