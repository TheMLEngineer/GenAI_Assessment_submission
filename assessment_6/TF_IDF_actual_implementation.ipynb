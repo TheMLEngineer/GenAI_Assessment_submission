{
 "cells": [
  {
   "cell_type": "code",
   "execution_count": 43,
   "id": "fa7adbb7",
   "metadata": {},
   "outputs": [],
   "source": [
    "import numpy as np\n",
    "from collections import defaultdict\n",
    "from math import log"
   ]
  },
  {
   "cell_type": "code",
   "execution_count": 44,
   "id": "21811836",
   "metadata": {},
   "outputs": [],
   "source": [
    "# 3 sentence sample corpus\n",
    "sample_corpus = [\n",
    "    \"In the magical forest, the wizard cast a spell to protect the enchanted tree\",\n",
    "    \"The enchanted tree glowed brightly, illuminating the entire forest with its magical light\",\n",
    "    \"As the forest thrived, the wizard watched over the enchanted tree, ensuring its magical essence remained strong\"\n",
    "]"
   ]
  },
  {
   "cell_type": "code",
   "execution_count": 45,
   "id": "e109d3f3",
   "metadata": {},
   "outputs": [],
   "source": [
    "# Data preprocessing\n",
    "\n",
    "def data_preprocessing(text):\n",
    "    return [word.lower() for word in text.split() if word.isalpha()]\n"
   ]
  },
  {
   "cell_type": "code",
   "execution_count": 46,
   "id": "ed0cce02",
   "metadata": {},
   "outputs": [],
   "source": [
    "# Compute Term Freaquency\n",
    "\n",
    "def compute_term_frequency(corpus):\n",
    "    tf = []\n",
    "    for document in corpus:\n",
    "        word_count = defaultdict(int)\n",
    "        words = data_preprocessing(document)\n",
    "        for word in words:\n",
    "            word_count[word] += 1\n",
    "        tf.append(\n",
    "            {word:count/len(words) for word , count in word_count.items()}\n",
    "        )\n",
    "    return tf"
   ]
  },
  {
   "cell_type": "code",
   "execution_count": 47,
   "id": "3e7c743a",
   "metadata": {},
   "outputs": [],
   "source": [
    "# Compute Inverse Document Frequency (IDF)\n",
    "\n",
    "def compute_inverse__document_frequency(corpus):\n",
    "    idf = {}\n",
    "    total_documents = len(corpus)\n",
    "    all_words = set(word for document in corpus for word in data_preprocessing(document))\n",
    "    for word in all_words:\n",
    "        containing_docs = sum(1 for document in corpus if word in data_preprocessing(document))\n",
    "        idf[word] = log(total_documents + (1/containing_docs)) + 1\n",
    "    return idf"
   ]
  },
  {
   "cell_type": "code",
   "execution_count": 48,
   "id": "e1cc7155",
   "metadata": {},
   "outputs": [],
   "source": [
    "# Compute TF-IDF\n",
    "\n",
    "def compute_tf_idf(tf , idf):\n",
    "    tf_idf = []\n",
    "    for document_tf in tf:\n",
    "        document_tf_idf = {word: tf_value *idf[word] for word, tf_value in document_tf.items()}\n",
    "        tf_idf.append(document_tf_idf)\n",
    "    return tf_idf"
   ]
  },
  {
   "cell_type": "code",
   "execution_count": 49,
   "id": "b735d94d",
   "metadata": {},
   "outputs": [
    {
     "name": "stdout",
     "output_type": "stream",
     "text": [
      "[{'in': 0.07692307692307693, 'the': 0.23076923076923078, 'magical': 0.07692307692307693, 'wizard': 0.07692307692307693, 'cast': 0.07692307692307693, 'a': 0.07692307692307693, 'spell': 0.07692307692307693, 'to': 0.07692307692307693, 'protect': 0.07692307692307693, 'enchanted': 0.07692307692307693, 'tree': 0.07692307692307693}, {'the': 0.16666666666666666, 'enchanted': 0.08333333333333333, 'tree': 0.08333333333333333, 'glowed': 0.08333333333333333, 'illuminating': 0.08333333333333333, 'entire': 0.08333333333333333, 'forest': 0.08333333333333333, 'with': 0.08333333333333333, 'its': 0.08333333333333333, 'magical': 0.08333333333333333, 'light': 0.08333333333333333}, {'as': 0.06666666666666667, 'the': 0.2, 'forest': 0.06666666666666667, 'wizard': 0.06666666666666667, 'watched': 0.06666666666666667, 'over': 0.06666666666666667, 'enchanted': 0.06666666666666667, 'ensuring': 0.06666666666666667, 'its': 0.06666666666666667, 'magical': 0.06666666666666667, 'essence': 0.06666666666666667, 'remained': 0.06666666666666667, 'strong': 0.06666666666666667}]\n"
     ]
    }
   ],
   "source": [
    "tf = compute_term_frequency(corpus = sample_corpus)\n",
    "print(tf)"
   ]
  },
  {
   "cell_type": "code",
   "execution_count": 50,
   "id": "3688c191",
   "metadata": {},
   "outputs": [
    {
     "name": "stdout",
     "output_type": "stream",
     "text": [
      "{'spell': 2.386294361119891, 'strong': 2.386294361119891, 'enchanted': 2.203972804325936, 'essence': 2.386294361119891, 'its': 2.252762968495368, 'over': 2.386294361119891, 'a': 2.386294361119891, 'to': 2.386294361119891, 'wizard': 2.252762968495368, 'protect': 2.386294361119891, 'illuminating': 2.386294361119891, 'entire': 2.386294361119891, 'in': 2.386294361119891, 'the': 2.203972804325936, 'forest': 2.252762968495368, 'watched': 2.386294361119891, 'light': 2.386294361119891, 'tree': 2.252762968495368, 'cast': 2.386294361119891, 'magical': 2.203972804325936, 'as': 2.386294361119891, 'with': 2.386294361119891, 'ensuring': 2.386294361119891, 'glowed': 2.386294361119891, 'remained': 2.386294361119891}\n"
     ]
    }
   ],
   "source": [
    "idf = compute_inverse__document_frequency(corpus=sample_corpus)\n",
    "print(idf)"
   ]
  },
  {
   "cell_type": "code",
   "execution_count": 51,
   "id": "597a1f6a",
   "metadata": {},
   "outputs": [
    {
     "name": "stdout",
     "output_type": "stream",
     "text": [
      "[{'in': 0.18356110470153006, 'the': 0.5086091086906006, 'magical': 0.16953636956353355, 'wizard': 0.17328945911502833, 'cast': 0.18356110470153006, 'a': 0.18356110470153006, 'spell': 0.18356110470153006, 'to': 0.18356110470153006, 'protect': 0.18356110470153006, 'enchanted': 0.16953636956353355, 'tree': 0.17328945911502833}, {'the': 0.3673288007209893, 'enchanted': 0.18366440036049464, 'tree': 0.187730247374614, 'glowed': 0.19885786342665757, 'illuminating': 0.19885786342665757, 'entire': 0.19885786342665757, 'forest': 0.187730247374614, 'with': 0.19885786342665757, 'its': 0.187730247374614, 'magical': 0.18366440036049464, 'light': 0.19885786342665757}, {'as': 0.15908629074132605, 'the': 0.4407945608651872, 'forest': 0.1501841978996912, 'wizard': 0.1501841978996912, 'watched': 0.15908629074132605, 'over': 0.15908629074132605, 'enchanted': 0.14693152028839573, 'ensuring': 0.15908629074132605, 'its': 0.1501841978996912, 'magical': 0.14693152028839573, 'essence': 0.15908629074132605, 'remained': 0.15908629074132605, 'strong': 0.15908629074132605}]\n"
     ]
    }
   ],
   "source": [
    "tf_idf = compute_tf_idf(tf = tf , idf = idf )\n",
    "print(tf_idf)"
   ]
  },
  {
   "cell_type": "code",
   "execution_count": 52,
   "id": "c772f483",
   "metadata": {},
   "outputs": [
    {
     "name": "stdout",
     "output_type": "stream",
     "text": [
      "Document 1 TF-IDF is : \n",
      "in : 0.18356110470153006\n",
      "the : 0.5086091086906006\n",
      "magical : 0.16953636956353355\n",
      "wizard : 0.17328945911502833\n",
      "cast : 0.18356110470153006\n",
      "a : 0.18356110470153006\n",
      "spell : 0.18356110470153006\n",
      "to : 0.18356110470153006\n",
      "protect : 0.18356110470153006\n",
      "enchanted : 0.16953636956353355\n",
      "tree : 0.17328945911502833\n",
      "**************************************************\n",
      "Document 2 TF-IDF is : \n",
      "the : 0.3673288007209893\n",
      "enchanted : 0.18366440036049464\n",
      "tree : 0.187730247374614\n",
      "glowed : 0.19885786342665757\n",
      "illuminating : 0.19885786342665757\n",
      "entire : 0.19885786342665757\n",
      "forest : 0.187730247374614\n",
      "with : 0.19885786342665757\n",
      "its : 0.187730247374614\n",
      "magical : 0.18366440036049464\n",
      "light : 0.19885786342665757\n",
      "**************************************************\n",
      "Document 3 TF-IDF is : \n",
      "as : 0.15908629074132605\n",
      "the : 0.4407945608651872\n",
      "forest : 0.1501841978996912\n",
      "wizard : 0.1501841978996912\n",
      "watched : 0.15908629074132605\n",
      "over : 0.15908629074132605\n",
      "enchanted : 0.14693152028839573\n",
      "ensuring : 0.15908629074132605\n",
      "its : 0.1501841978996912\n",
      "magical : 0.14693152028839573\n",
      "essence : 0.15908629074132605\n",
      "remained : 0.15908629074132605\n",
      "strong : 0.15908629074132605\n",
      "**************************************************\n"
     ]
    }
   ],
   "source": [
    "# The results\n",
    "\n",
    "for i , document_tf_idf in enumerate(tf_idf):\n",
    "    print(f\"Document {i+1} TF-IDF is : \")\n",
    "    for word , score in document_tf_idf.items():\n",
    "        print(f\"{word} : {score}\")\n",
    "    print(\"*\"*50)\n"
   ]
  }
 ],
 "metadata": {
  "kernelspec": {
   "display_name": "Python 3 (ipykernel)",
   "language": "python",
   "name": "python3"
  },
  "language_info": {
   "codemirror_mode": {
    "name": "ipython",
    "version": 3
   },
   "file_extension": ".py",
   "mimetype": "text/x-python",
   "name": "python",
   "nbconvert_exporter": "python",
   "pygments_lexer": "ipython3",
   "version": "3.12.4"
  }
 },
 "nbformat": 4,
 "nbformat_minor": 5
}
