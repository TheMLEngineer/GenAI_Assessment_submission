{
 "cells": [
  {
   "cell_type": "code",
   "execution_count": 1,
   "id": "fa7adbb7",
   "metadata": {},
   "outputs": [],
   "source": [
    "import numpy as np\n",
    "from collections import defaultdict\n",
    "from math import log"
   ]
  },
  {
   "cell_type": "code",
   "execution_count": 2,
   "id": "21811836",
   "metadata": {},
   "outputs": [],
   "source": [
    "# 3 sentence sample corpus\n",
    "sample_corpus = [\n",
    "    \"In the magical forest, the wizard cast a spell to protect the enchanted tree\",\n",
    "    \"The enchanted tree glowed brightly, illuminating the entire forest with its magical light\",\n",
    "    \"As the forest thrived, the wizard watched over the enchanted tree, ensuring its magical essence remained strong\"\n",
    "]"
   ]
  },
  {
   "cell_type": "code",
   "execution_count": 4,
   "id": "e109d3f3",
   "metadata": {},
   "outputs": [],
   "source": [
    "# Data preprocessing\n",
    "\n",
    "def data_preprocessing(text):\n",
    "    return [word.lower() for word in text.split() if word.isalpha()]\n"
   ]
  },
  {
   "cell_type": "code",
   "execution_count": 6,
   "id": "ed0cce02",
   "metadata": {},
   "outputs": [],
   "source": [
    "# Compute Term Freaquency\n",
    "\n",
    "def compute_term_frequency(corpus):\n",
    "    tf = []\n",
    "    for document in corpus:\n",
    "        word_count = defaultdict(int)\n",
    "        words = data_preprocessing(document)\n",
    "        for word in words:\n",
    "            word_count[word] += 1\n",
    "        tf = tf.append(\n",
    "            {word:count/len(words) for word , count in word_count.items()}\n",
    "        )\n",
    "    return tf"
   ]
  },
  {
   "cell_type": "code",
   "execution_count": 7,
   "id": "3e7c743a",
   "metadata": {},
   "outputs": [],
   "source": [
    "# Compute Inverse Document Frequency (IDF)\n",
    "\n",
    "def compute_inverse__document_frequency(corpus):\n",
    "    idf = {}\n",
    "    total_documents = len(corpus)\n",
    "    all_words = set(word for document in corpus for word in data_preprocessing(document))\n",
    "    for word in all_words:\n",
    "        containing_docs = sum(1 for document in corpus if word in data_preprocessing(document))\n",
    "        idf[word] = log(total_documents + (1/containing_docs)) + 1\n",
    "    return idf"
   ]
  },
  {
   "cell_type": "code",
   "execution_count": 8,
   "id": "e1cc7155",
   "metadata": {},
   "outputs": [],
   "source": [
    "# Compute TF-IDF\n",
    "\n",
    "def compute_tf_idf(tf , idf):\n",
    "    tf_idf = []\n",
    "    for document_tf in tf:\n",
    "        document_tf_idf = {word: tf_value *idf[word] for word, tf_value in document_tf.items()}\n",
    "        tf_idf.append(document_tf_idf)\n",
    "    return tf_idf"
   ]
  },
  {
   "cell_type": "code",
   "execution_count": 9,
   "id": "b735d94d",
   "metadata": {},
   "outputs": [
    {
     "ename": "AttributeError",
     "evalue": "'NoneType' object has no attribute 'append'",
     "output_type": "error",
     "traceback": [
      "\u001b[1;31m---------------------------------------------------------------------------\u001b[0m",
      "\u001b[1;31mAttributeError\u001b[0m                            Traceback (most recent call last)",
      "Cell \u001b[1;32mIn[9], line 1\u001b[0m\n\u001b[1;32m----> 1\u001b[0m tf \u001b[38;5;241m=\u001b[39m compute_term_frequency(corpus \u001b[38;5;241m=\u001b[39m sample_corpus)\n",
      "Cell \u001b[1;32mIn[6], line 10\u001b[0m, in \u001b[0;36mcompute_term_frequency\u001b[1;34m(corpus)\u001b[0m\n\u001b[0;32m      8\u001b[0m     \u001b[38;5;28;01mfor\u001b[39;00m word \u001b[38;5;129;01min\u001b[39;00m words:\n\u001b[0;32m      9\u001b[0m         word_count[word] \u001b[38;5;241m+\u001b[39m\u001b[38;5;241m=\u001b[39m \u001b[38;5;241m1\u001b[39m\n\u001b[1;32m---> 10\u001b[0m     tf \u001b[38;5;241m=\u001b[39m tf\u001b[38;5;241m.\u001b[39mappend(\n\u001b[0;32m     11\u001b[0m         {word:count\u001b[38;5;241m/\u001b[39m\u001b[38;5;28mlen\u001b[39m(words) \u001b[38;5;28;01mfor\u001b[39;00m word , count \u001b[38;5;129;01min\u001b[39;00m word_count\u001b[38;5;241m.\u001b[39mitems()}\n\u001b[0;32m     12\u001b[0m     )\n\u001b[0;32m     13\u001b[0m \u001b[38;5;28;01mreturn\u001b[39;00m tf\n",
      "\u001b[1;31mAttributeError\u001b[0m: 'NoneType' object has no attribute 'append'"
     ]
    }
   ],
   "source": [
    "tf = compute_term_frequency(corpus = sample_corpus)"
   ]
  },
  {
   "cell_type": "code",
   "execution_count": null,
   "id": "3688c191",
   "metadata": {},
   "outputs": [],
   "source": []
  }
 ],
 "metadata": {
  "kernelspec": {
   "display_name": "Python 3 (ipykernel)",
   "language": "python",
   "name": "python3"
  },
  "language_info": {
   "codemirror_mode": {
    "name": "ipython",
    "version": 3
   },
   "file_extension": ".py",
   "mimetype": "text/x-python",
   "name": "python",
   "nbconvert_exporter": "python",
   "pygments_lexer": "ipython3",
   "version": "3.12.4"
  }
 },
 "nbformat": 4,
 "nbformat_minor": 5
}
