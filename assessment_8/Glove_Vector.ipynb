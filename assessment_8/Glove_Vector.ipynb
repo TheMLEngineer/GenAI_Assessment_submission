{
 "cells": [
  {
   "cell_type": "code",
   "execution_count": 27,
   "id": "396a7d81",
   "metadata": {},
   "outputs": [
    {
     "name": "stdout",
     "output_type": "stream",
     "text": [
      "Requirement already satisfied: requests in c:\\users\\karthikeyan muthu\\.ai-navigator\\conda\\envs\\gen_ai\\lib\\site-packages (2.32.3)\n",
      "Requirement already satisfied: bs4 in c:\\users\\karthikeyan muthu\\.ai-navigator\\conda\\envs\\gen_ai\\lib\\site-packages (0.0.2)\n",
      "Requirement already satisfied: charset-normalizer<4,>=2 in c:\\users\\karthikeyan muthu\\.ai-navigator\\conda\\envs\\gen_ai\\lib\\site-packages (from requests) (3.3.2)\n",
      "Requirement already satisfied: idna<4,>=2.5 in c:\\users\\karthikeyan muthu\\.ai-navigator\\conda\\envs\\gen_ai\\lib\\site-packages (from requests) (3.10)\n",
      "Requirement already satisfied: urllib3<3,>=1.21.1 in c:\\users\\karthikeyan muthu\\.ai-navigator\\conda\\envs\\gen_ai\\lib\\site-packages (from requests) (2.2.3)\n",
      "Requirement already satisfied: certifi>=2017.4.17 in c:\\users\\karthikeyan muthu\\.ai-navigator\\conda\\envs\\gen_ai\\lib\\site-packages (from requests) (2024.8.30)\n",
      "Requirement already satisfied: beautifulsoup4 in c:\\users\\karthikeyan muthu\\.ai-navigator\\conda\\envs\\gen_ai\\lib\\site-packages (from bs4) (4.12.3)\n",
      "Requirement already satisfied: soupsieve>1.2 in c:\\users\\karthikeyan muthu\\.ai-navigator\\conda\\envs\\gen_ai\\lib\\site-packages (from beautifulsoup4->bs4) (2.6)\n"
     ]
    }
   ],
   "source": [
    "! pip install requests bs4"
   ]
  },
  {
   "cell_type": "code",
   "execution_count": 28,
   "metadata": {},
   "outputs": [
    {
     "name": "stdout",
     "output_type": "stream",
     "text": [
      "<class 'str'> 68472\n"
     ]
    }
   ],
   "source": [
    "# Getting data based on web scrapping\n",
    "\n",
    "import requests\n",
    "from bs4 import BeautifulSoup\n",
    "\n",
    "# URL of the Wikipedia page\n",
    "url = \"https://en.wikipedia.org/wiki/My_Hero_Academia\"\n",
    "\n",
    "response = requests.get(url)\n",
    "\n",
    "soup = BeautifulSoup(response.content, 'html.parser')\n",
    "\n",
    "paragraphs = soup.find_all('p')\n",
    "\n",
    "all_corpus = \"\\n\".join([para.get_text() for para in paragraphs])\n",
    "\n",
    "print(type(all_corpus) , len(all_corpus))"
   ]
  },
  {
   "cell_type": "code",
   "execution_count": 29,
   "id": "a83f8f8f",
   "metadata": {},
   "outputs": [],
   "source": [
    "import numpy as np\n",
    "from collections import Counter , defaultdict"
   ]
  },
  {
   "cell_type": "code",
   "execution_count": 30,
   "id": "ed8e56d2",
   "metadata": {},
   "outputs": [],
   "source": [
    "# Preprocess corpus\n",
    "\n",
    "def preprocess_corpus(corpus, min_count=5):\n",
    "    tokens = corpus.split()\n",
    "    word_counts = Counter(tokens)\n",
    "    word_counts = {word: count for word, count in word_counts.items() if count >= min_count}\n",
    "    word2idx = {word: idx for idx, (word, _) in enumerate(word_counts.items())}\n",
    "    idx2word = {idx: word for word, idx in word2idx.items()}\n",
    "    return word2idx, idx2word\n",
    "\n",
    "word2idx, idx2word = preprocess_corpus(all_corpus)"
   ]
  },
  {
   "cell_type": "code",
   "execution_count": 31,
   "id": "e05f243c",
   "metadata": {},
   "outputs": [],
   "source": [
    "# Co Occurance matrix\n",
    "def create_cooccurrence_matrix(corpus, word2idx, window_size=2):\n",
    "    tokens = corpus.split()\n",
    "    cooccurrence_matrix = defaultdict(lambda: defaultdict(int))\n",
    "    \n",
    "    for i, word in enumerate(tokens):\n",
    "        if word in word2idx:\n",
    "            for j in range(max(0, i - window_size), min(len(tokens), i + window_size + 1)):\n",
    "                if i != j and tokens[j] in word2idx:\n",
    "                    cooccurrence_matrix[word2idx[word]][word2idx[tokens[j]]] += 1\n",
    "    return cooccurrence_matrix\n",
    "\n",
    "cooccurrence_matrix = create_cooccurrence_matrix(all_corpus, word2idx) \n"
   ]
  },
  {
   "cell_type": "code",
   "execution_count": 32,
   "id": "b19b2d56",
   "metadata": {},
   "outputs": [],
   "source": [
    "def train_glove(cooccurrence_matrix, vector_size=50, iterations=100, learning_rate=0.05):\n",
    "    vocab_size = len(cooccurrence_matrix)\n",
    "    W = np.random.rand(vocab_size, vector_size)\n",
    "    biases = np.random.rand(vocab_size)\n",
    "    \n",
    "    for _ in range(iterations):\n",
    "        for i, j_dict in cooccurrence_matrix.items():\n",
    "            for j, count in j_dict.items():\n",
    "                weight = (count / 100.0) ** 0.75\n",
    "                diff = np.dot(W[i], W[j]) + biases[i] + biases[j] - np.log(count)\n",
    "                W[i] -= learning_rate * weight * diff * W[j]\n",
    "                W[j] -= learning_rate * weight * diff * W[i]\n",
    "                biases[i] -= learning_rate * weight * diff\n",
    "                biases[j] -= learning_rate * weight * diff\n",
    "    return W\n",
    "\n",
    "word_vectors = train_glove(cooccurrence_matrix)"
   ]
  },
  {
   "cell_type": "code",
   "execution_count": 33,
   "id": "c02f85f6",
   "metadata": {},
   "outputs": [
    {
     "name": "stdout",
     "output_type": "stream",
     "text": [
      "word to get vector for is in the voacbularty\n",
      "[-0.29164513 -0.05472709 -0.09473932  0.05362779  0.55323347  0.15294911\n",
      " -0.28119575 -0.34410333 -0.21068753  0.17891824  0.23723767  0.33059958\n",
      " -0.20836728  0.11458079 -0.08017352 -0.48794548  0.11523654 -0.45072525\n",
      " -0.55774467  0.26317767 -0.04299657  0.03259341  0.147565    0.64404846\n",
      " -0.33979364 -0.21353863  0.39576707 -0.17469242  0.06442587 -0.37370159\n",
      "  0.18750833  0.89961775 -0.41840317  0.50746513 -0.15189318 -0.05070499\n",
      "  0.26657242  0.38083355 -0.25773601  0.15303332  0.80749579  0.23801125\n",
      " -0.31436828  0.13813286  0.09107391 -0.40692326 -0.00196485  0.2496837\n",
      "  0.40912805  0.13470439]\n"
     ]
    }
   ],
   "source": [
    "# Get word embedding\n",
    "\n",
    "def get_word_vector(word, word2idx, word_vectors):\n",
    "    idx = word2idx.get(word)\n",
    "    if idx is not None:\n",
    "        return word_vectors[idx]\n",
    "    else:\n",
    "        return None\n",
    "    \n",
    "word_to_get_vector_for = \"Academia\"\n",
    "if word_to_get_vector_for in word2idx:\n",
    "    print(\"word to get vector for is in the voacbularty\")\n",
    "else:\n",
    "    print(f\"{word_to_get_vector_for} is not in the vocabulary\")\n",
    "\n",
    "\n",
    "vector = get_word_vector(word_to_get_vector_for, word2idx, word_vectors)\n",
    "print(vector)"
   ]
  }
 ],
 "metadata": {
  "kernelspec": {
   "display_name": "Python 3",
   "language": "python",
   "name": "python3"
  },
  "language_info": {
   "codemirror_mode": {
    "name": "ipython",
    "version": 3
   },
   "file_extension": ".py",
   "mimetype": "text/x-python",
   "name": "python",
   "nbconvert_exporter": "python",
   "pygments_lexer": "ipython3",
   "version": "3.12.6"
  }
 },
 "nbformat": 4,
 "nbformat_minor": 5
}
