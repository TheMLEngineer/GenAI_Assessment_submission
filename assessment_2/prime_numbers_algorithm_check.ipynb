{
 "cells": [
  {
   "cell_type": "markdown",
   "id": "9f8138c1-bf38-47ae-accb-41f58c787706",
   "metadata": {},
   "source": [
    "# Prime Number till 2000 on different algorithms and compare time and space complexity"
   ]
  },
  {
   "cell_type": "code",
   "execution_count": null,
   "id": "652c0df3-3df3-4b65-a108-95e32a7b1a70",
   "metadata": {},
   "outputs": [],
   "source": [
    "%%time\n",
    "\n",
    "def is_prime(number):\n",
    "    if number % 2 == 0:\n",
    "        return False\n",
    "     "
   ]
  },
  {
   "cell_type": "code",
   "execution_count": null,
   "id": "be4885f6-f876-422a-8460-a80376200ee6",
   "metadata": {},
   "outputs": [],
   "source": []
  },
  {
   "cell_type": "code",
   "execution_count": null,
   "id": "2cbf1b53-232c-4aa2-97b1-4604b60e8fd4",
   "metadata": {},
   "outputs": [],
   "source": []
  },
  {
   "cell_type": "code",
   "execution_count": null,
   "id": "41b6b9e1-9dce-40f7-b24b-8c0302b9ec6f",
   "metadata": {},
   "outputs": [],
   "source": []
  }
 ],
 "metadata": {
  "kernelspec": {
   "display_name": "Python 3 (ipykernel)",
   "language": "python",
   "name": "python3"
  },
  "language_info": {
   "codemirror_mode": {
    "name": "ipython",
    "version": 3
   },
   "file_extension": ".py",
   "mimetype": "text/x-python",
   "name": "python",
   "nbconvert_exporter": "python",
   "pygments_lexer": "ipython3",
   "version": "3.12.4"
  }
 },
 "nbformat": 4,
 "nbformat_minor": 5
}
