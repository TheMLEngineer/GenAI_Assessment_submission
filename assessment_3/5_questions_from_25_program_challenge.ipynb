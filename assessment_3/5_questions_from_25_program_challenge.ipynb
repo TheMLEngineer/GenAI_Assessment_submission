{
 "cells": [
  {
   "cell_type": "markdown",
   "id": "ca322030",
   "metadata": {},
   "source": [
    "# 5 programs in the 25-programs challenge"
   ]
  },
  {
   "cell_type": "markdown",
   "id": "9f77a9c5",
   "metadata": {},
   "source": [
    "### Print if two strings are equal or not"
   ]
  },
  {
   "cell_type": "code",
   "execution_count": 13,
   "id": "2bc0358b",
   "metadata": {},
   "outputs": [
    {
     "name": "stdout",
     "output_type": "stream",
     "text": [
      "Both Strings are Equal\n",
      "Both strings are unequal\n"
     ]
    }
   ],
   "source": [
    "def is_string_equal(string1 , string2) -> str:\n",
    "    if string1.lower()  == string2.lower():\n",
    "        return \"Both Strings are Equal\"\n",
    "    else:\n",
    "        return \"Both strings are unequal\"\n",
    "    \n",
    "# Positive test case\n",
    "print(is_string_equal(\"abc\" , \"ABc\"))\n",
    "\n",
    "   \n",
    "# Negative test case\n",
    "print(is_string_equal(\"abc\" , \"Def\"))"
   ]
  },
  {
   "cell_type": "markdown",
   "id": "6594ed65",
   "metadata": {},
   "source": [
    "### Print frequency of a character in string"
   ]
  },
  {
   "cell_type": "code",
   "execution_count": 14,
   "id": "344ecc97",
   "metadata": {},
   "outputs": [
    {
     "name": "stdout",
     "output_type": "stream",
     "text": [
      "3\n",
      "0\n"
     ]
    }
   ],
   "source": [
    "def count_character(string , character) -> int:\n",
    "    return len([i for i in list(string) if i == character])\n",
    "\n",
    "# Positive test case\n",
    "print(count_character(\"abbccc\" , \"c\"))\n",
    "\n",
    "\n",
    "# Negative test case\n",
    "print(count_character(\"abc\" , \"Def\"))"
   ]
  },
  {
   "cell_type": "markdown",
   "id": "fb78fe80",
   "metadata": {},
   "source": [
    "### Find if a given number is prime"
   ]
  },
  {
   "cell_type": "code",
   "execution_count": 15,
   "id": "1e2bd650",
   "metadata": {},
   "outputs": [
    {
     "name": "stdout",
     "output_type": "stream",
     "text": [
      "True\n",
      "False\n"
     ]
    }
   ],
   "source": [
    "def is_prime(number) -> bool:\n",
    "    if number <=1:\n",
    "        return False\n",
    "    if number == 2:\n",
    "        return True\n",
    "    if number%2==0:\n",
    "        return False\n",
    "    for i in range(2,int(number**0.5)+1):\n",
    "        if number % i == 0:\n",
    "            return False\n",
    "    return True\n",
    "\n",
    "# Positive case\n",
    "print(is_prime(5))\n",
    "\n",
    "# Negative case\n",
    "print(is_prime(4))\n"
   ]
  },
  {
   "cell_type": "markdown",
   "id": "3bab12e2",
   "metadata": {},
   "source": [
    "### Check if a number is perfect number"
   ]
  },
  {
   "cell_type": "code",
   "execution_count": 20,
   "id": "40d08bc0-1ff1-4822-ae1a-c3e3ede3e380",
   "metadata": {},
   "outputs": [
    {
     "name": "stdout",
     "output_type": "stream",
     "text": [
      "6 is perfect number :  True\n",
      "7 is perfect number :  False\n"
     ]
    }
   ],
   "source": [
    "def is_perfect_number(number) -> bool:\n",
    "    if number <= 1:\n",
    "        return False\n",
    "    divisor_sum = sum([i for i in range(1,number) if number % i == 0])\n",
    "    return divisor_sum == number\n",
    "\n",
    "# Positive case\n",
    "print('6 is perfect number : ',is_perfect_number(6))\n",
    "\n",
    "# Negative case\n",
    "print('7 is perfect number : ',is_perfect_number(7))\n"
   ]
  },
  {
   "cell_type": "markdown",
   "id": "74ee0b35",
   "metadata": {},
   "source": [
    "### Get list of perfect numbers in a range"
   ]
  },
  {
   "cell_type": "code",
   "execution_count": 25,
   "id": "c9185cff",
   "metadata": {},
   "outputs": [
    {
     "name": "stdout",
     "output_type": "stream",
     "text": [
      "[6, 28, 496]\n"
     ]
    }
   ],
   "source": [
    "def is_perfect_number(number) -> bool:\n",
    "    if number <= 1:\n",
    "        return False\n",
    "    divisor_sum = sum([i for i in range(1,number) if number % i == 0])\n",
    "    return divisor_sum == number\n",
    "\n",
    "\n",
    "range_to_check = list(range(1,555))\n",
    "print(list(filter( is_perfect_number , range_to_check)))"
   ]
  }
 ],
 "metadata": {
  "kernelspec": {
   "display_name": "Python 3 (ipykernel)",
   "language": "python",
   "name": "python3"
  },
  "language_info": {
   "codemirror_mode": {
    "name": "ipython",
    "version": 3
   },
   "file_extension": ".py",
   "mimetype": "text/x-python",
   "name": "python",
   "nbconvert_exporter": "python",
   "pygments_lexer": "ipython3",
   "version": "3.12.4"
  }
 },
 "nbformat": 4,
 "nbformat_minor": 5
}
